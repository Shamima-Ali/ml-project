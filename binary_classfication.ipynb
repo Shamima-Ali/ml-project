{
  "nbformat": 4,
  "nbformat_minor": 0,
  "metadata": {
    "colab": {
      "provenance": []
    },
    "kernelspec": {
      "name": "python3",
      "display_name": "Python 3"
    },
    "language_info": {
      "name": "python"
    }
  },
  "cells": [
    {
      "cell_type": "code",
      "execution_count": 4,
      "metadata": {
        "id": "-Levm9qR7Xa1"
      },
      "outputs": [],
      "source": [
        "from keras.datasets import imdb\n",
        "(train_data, train_labels), (test_data, test_labels) = imdb.load_data(\n",
        "num_words=10000)"
      ]
    },
    {
      "cell_type": "code",
      "source": [
        "import numpy as np\n",
        "\n",
        "def vectorize_sequences(sequences, dimension=10000):\n",
        "  results = np.zeros((len(sequences), dimension))\n",
        "  for i, sequence in enumerate(sequences):\n",
        "    results[i, sequence] = 1.\n",
        "  return results\n",
        "\n",
        "\n",
        "x_train = vectorize_sequences(train_data)\n",
        "x_test = vectorize_sequences(test_data)"
      ],
      "metadata": {
        "id": "6yTy-eHJ8c5L"
      },
      "execution_count": 6,
      "outputs": []
    },
    {
      "cell_type": "code",
      "source": [
        "print(train_labels.dtype)\n"
      ],
      "metadata": {
        "colab": {
          "base_uri": "https://localhost:8080/"
        },
        "id": "Km6wem20-nZV",
        "outputId": "dc1e24c7-6bf0-412b-89a7-974ca9fadff4"
      },
      "execution_count": 11,
      "outputs": [
        {
          "output_type": "stream",
          "name": "stdout",
          "text": [
            "int64\n"
          ]
        }
      ]
    },
    {
      "cell_type": "code",
      "source": [
        "y_train = np.asarray(train_labels).astype('float32')\n",
        "y_test = np.asarray(test_labels).astype('float32')\n",
        "\n",
        "print(y_train.dtype)\n"
      ],
      "metadata": {
        "colab": {
          "base_uri": "https://localhost:8080/"
        },
        "id": "_qhJSZhS-sJ4",
        "outputId": "45d59066-9daf-4332-9dfa-66a43bfe6f90"
      },
      "execution_count": 12,
      "outputs": [
        {
          "output_type": "stream",
          "name": "stdout",
          "text": [
            "float32\n"
          ]
        }
      ]
    },
    {
      "cell_type": "code",
      "source": [
        "from keras import models\n",
        "from keras import layers\n",
        "\n",
        "model = models.Sequential()\n",
        "model.add(layers.Dense(16, activation='relu', input_shape=(10000,)))\n",
        "model.add(layers.Dense(16, activation='relu'))\n",
        "model.add(layers.Dense(1, activation='sigmoid'))"
      ],
      "metadata": {
        "id": "vo_7zmlkA2gX"
      },
      "execution_count": 13,
      "outputs": []
    },
    {
      "cell_type": "code",
      "source": [
        "model.compile(optimizer='rmsprop',\n",
        "loss='binary_crossentropy',\n",
        "metrics=['accuracy'])"
      ],
      "metadata": {
        "id": "wDtunl0HBFKc"
      },
      "execution_count": 14,
      "outputs": []
    },
    {
      "cell_type": "code",
      "source": [
        "x_val = x_train[:10000]\n",
        "partial_x_train = x_train[10000:]"
      ],
      "metadata": {
        "id": "-5LKfHnFBRpu"
      },
      "execution_count": 16,
      "outputs": []
    },
    {
      "cell_type": "code",
      "source": [
        "y_val = y_train[:10000]\n",
        "partial_y_train = y_train[10000:]"
      ],
      "metadata": {
        "id": "NW5o7FepBV-n"
      },
      "execution_count": 17,
      "outputs": []
    },
    {
      "cell_type": "code",
      "source": [
        "model.compile(optimizer='rmsprop',\n",
        "loss='binary_crossentropy',\n",
        "metrics=['acc'])\n",
        "\n",
        "history = model.fit(partial_x_train,\n",
        "partial_y_train,\n",
        "epochs=20,\n",
        "batch_size=512,\n",
        "validation_data=(x_val, y_val))"
      ],
      "metadata": {
        "colab": {
          "base_uri": "https://localhost:8080/"
        },
        "id": "uCZE5A5pBexI",
        "outputId": "2cb1a60e-0b1d-410e-8e32-51e177908df5"
      },
      "execution_count": 18,
      "outputs": [
        {
          "output_type": "stream",
          "name": "stdout",
          "text": [
            "Epoch 1/20\n",
            "30/30 [==============================] - 1s 25ms/step - loss: 0.5115 - acc: 0.8044 - val_loss: 0.3893 - val_acc: 0.8633\n",
            "Epoch 2/20\n",
            "30/30 [==============================] - 1s 18ms/step - loss: 0.3127 - acc: 0.8969 - val_loss: 0.3096 - val_acc: 0.8875\n",
            "Epoch 3/20\n",
            "30/30 [==============================] - 1s 17ms/step - loss: 0.2278 - acc: 0.9261 - val_loss: 0.2864 - val_acc: 0.8875\n",
            "Epoch 4/20\n",
            "30/30 [==============================] - 1s 17ms/step - loss: 0.1786 - acc: 0.9416 - val_loss: 0.2906 - val_acc: 0.8854\n",
            "Epoch 5/20\n",
            "30/30 [==============================] - 1s 17ms/step - loss: 0.1474 - acc: 0.9518 - val_loss: 0.2922 - val_acc: 0.8834\n",
            "Epoch 6/20\n",
            "30/30 [==============================] - 1s 17ms/step - loss: 0.1173 - acc: 0.9659 - val_loss: 0.2997 - val_acc: 0.8863\n",
            "Epoch 7/20\n",
            "30/30 [==============================] - 1s 17ms/step - loss: 0.0971 - acc: 0.9720 - val_loss: 0.3080 - val_acc: 0.8862\n",
            "Epoch 8/20\n",
            "30/30 [==============================] - 1s 17ms/step - loss: 0.0780 - acc: 0.9779 - val_loss: 0.3288 - val_acc: 0.8813\n",
            "Epoch 9/20\n",
            "30/30 [==============================] - 1s 17ms/step - loss: 0.0618 - acc: 0.9847 - val_loss: 0.3913 - val_acc: 0.8746\n",
            "Epoch 10/20\n",
            "30/30 [==============================] - 1s 17ms/step - loss: 0.0515 - acc: 0.9878 - val_loss: 0.3794 - val_acc: 0.8800\n",
            "Epoch 11/20\n",
            "30/30 [==============================] - 1s 17ms/step - loss: 0.0415 - acc: 0.9909 - val_loss: 0.4105 - val_acc: 0.8796\n",
            "Epoch 12/20\n",
            "30/30 [==============================] - 0s 17ms/step - loss: 0.0296 - acc: 0.9953 - val_loss: 0.4463 - val_acc: 0.8718\n",
            "Epoch 13/20\n",
            "30/30 [==============================] - 1s 17ms/step - loss: 0.0234 - acc: 0.9961 - val_loss: 0.4729 - val_acc: 0.8751\n",
            "Epoch 14/20\n",
            "30/30 [==============================] - 1s 17ms/step - loss: 0.0178 - acc: 0.9971 - val_loss: 0.5194 - val_acc: 0.8726\n",
            "Epoch 15/20\n",
            "30/30 [==============================] - 1s 21ms/step - loss: 0.0162 - acc: 0.9969 - val_loss: 0.5487 - val_acc: 0.8719\n",
            "Epoch 16/20\n",
            "30/30 [==============================] - 1s 32ms/step - loss: 0.0083 - acc: 0.9995 - val_loss: 0.5918 - val_acc: 0.8620\n",
            "Epoch 17/20\n",
            "30/30 [==============================] - 1s 22ms/step - loss: 0.0087 - acc: 0.9989 - val_loss: 0.6179 - val_acc: 0.8700\n",
            "Epoch 18/20\n",
            "30/30 [==============================] - 1s 17ms/step - loss: 0.0054 - acc: 0.9994 - val_loss: 0.8311 - val_acc: 0.8523\n",
            "Epoch 19/20\n",
            "30/30 [==============================] - 1s 17ms/step - loss: 0.0038 - acc: 0.9997 - val_loss: 0.6767 - val_acc: 0.8681\n",
            "Epoch 20/20\n",
            "30/30 [==============================] - 1s 17ms/step - loss: 0.0034 - acc: 0.9995 - val_loss: 0.7821 - val_acc: 0.8626\n"
          ]
        }
      ]
    },
    {
      "cell_type": "code",
      "source": [
        "history_dict = history.history\n",
        "history_dict.keys()"
      ],
      "metadata": {
        "colab": {
          "base_uri": "https://localhost:8080/"
        },
        "id": "YAjZwDcwB4c3",
        "outputId": "a55e0c31-a885-4cd8-cf62-f6a3a83589da"
      },
      "execution_count": 19,
      "outputs": [
        {
          "output_type": "execute_result",
          "data": {
            "text/plain": [
              "dict_keys(['loss', 'acc', 'val_loss', 'val_acc'])"
            ]
          },
          "metadata": {},
          "execution_count": 19
        }
      ]
    },
    {
      "cell_type": "code",
      "source": [
        "import matplotlib.pyplot as plt\n",
        "\n",
        "history_dict = history.history\n",
        "loss_values = history_dict['loss']\n",
        "val_loss_values = history_dict['val_loss']\n",
        "acc = history_dict['acc']\n",
        "\n",
        "epochs = range(1, len(acc) + 1)\n",
        "\n",
        "plt.plot(epochs, loss_values, 'bo', label='Training loss')\n",
        "plt.plot(epochs, val_loss_values, 'b', label='Validation loss')\n",
        "plt.title('Training and validation loss')\n",
        "plt.xlabel('Epochs')\n",
        "plt.ylabel('Loss')\n",
        "plt.legend()\n",
        "plt.show()"
      ],
      "metadata": {
        "colab": {
          "base_uri": "https://localhost:8080/",
          "height": 295
        },
        "id": "KbJtPSWmB7or",
        "outputId": "73b345a4-1e55-4655-89e7-ad2a35b03bc6"
      },
      "execution_count": 21,
      "outputs": [
        {
          "output_type": "display_data",
          "data": {
            "text/plain": [
              "<Figure size 432x288 with 1 Axes>"
            ],
            "image/png": "[encoded data removed]"
          },
          "metadata": {
            "needs_background": "light"
          }
        }
      ]
    },
    {
      "cell_type": "code",
      "source": [
        "plt.clf() #clears figure\n",
        "acc_values = history_dict['acc']\n",
        "val_acc_values = history_dict['val_acc']\n",
        "\n",
        "plt.plot(epochs, acc_values, 'bo', label='Training acc')\n",
        "plt.plot(epochs, val_acc_values, 'b', label='Validation acc')\n",
        "plt.title('Training and validation accuracy')\n",
        "plt.xlabel('Epochs')\n",
        "plt.ylabel('Loss')\n",
        "plt.legend()\n",
        "plt.show()"
      ],
      "metadata": {
        "colab": {
          "base_uri": "https://localhost:8080/",
          "height": 295
        },
        "id": "fw0DwAjfCS-j",
        "outputId": "51803eff-7501-4be5-b166-795c122cb23a"
      },
      "execution_count": 23,
      "outputs": [
        {
          "output_type": "display_data",
          "data": {
            "text/plain": [
              "<Figure size 432x288 with 1 Axes>"
            ],
            "image/png": "[encoded data removed]"
          },
          "metadata": {
            "needs_background": "light"
          }
        }
      ]
    },
    {
      "cell_type": "code",
      "source": [
        "model = models.Sequential()\n",
        "model.add(layers.Dense(16, activation='relu', input_shape=(10000,)))\n",
        "model.add(layers.Dense(16, activation='relu'))\n",
        "model.add(layers.Dense(1, activation='sigmoid'))\n",
        "\n",
        "model.compile(optimizer='rmsprop',\n",
        "loss='binary_crossentropy',\n",
        "metrics=['accuracy'])\n",
        "model.fit(x_train, y_train, epochs=4, batch_size=512)\n",
        "results = model.evaluate(x_test, y_test)"
      ],
      "metadata": {
        "colab": {
          "base_uri": "https://localhost:8080/"
        },
        "id": "Jhh1KltSItCD",
        "outputId": "c98eab67-7f38-4431-9eec-95addb1569ae"
      },
      "execution_count": 24,
      "outputs": [
        {
          "output_type": "stream",
          "name": "stdout",
          "text": [
            "Epoch 1/4\n",
            "49/49 [==============================] - 2s 15ms/step - loss: 0.4598 - accuracy: 0.8233\n",
            "Epoch 2/4\n",
            "49/49 [==============================] - 1s 14ms/step - loss: 0.2611 - accuracy: 0.9085\n",
            "Epoch 3/4\n",
            "49/49 [==============================] - 1s 14ms/step - loss: 0.2001 - accuracy: 0.9295\n",
            "Epoch 4/4\n",
            "49/49 [==============================] - 1s 14ms/step - loss: 0.1690 - accuracy: 0.9403\n",
            "782/782 [==============================] - 1s 1ms/step - loss: 0.2912 - accuracy: 0.8846\n"
          ]
        }
      ]
    },
    {
      "cell_type": "code",
      "source": [
        "model.predict(x_test)"
      ],
      "metadata": {
        "colab": {
          "base_uri": "https://localhost:8080/"
        },
        "id": "A4F3hKbQI12k",
        "outputId": "b7f8f033-8f6d-440e-d0c2-997d709ac4c7"
      },
      "execution_count": 26,
      "outputs": [
        {
          "output_type": "stream",
          "name": "stdout",
          "text": [
            "782/782 [==============================] - 1s 1ms/step\n"
          ]
        },
        {
          "output_type": "execute_result",
          "data": {
            "text/plain": [
              "array([[0.20449756],\n",
              "       [0.99967724],\n",
              "       [0.9128725 ],\n",
              "       ...,\n",
              "       [0.1012952 ],\n",
              "       [0.07092664],\n",
              "       [0.5633468 ]], dtype=float32)"
            ]
          },
          "metadata": {},
          "execution_count": 26
        }
      ]
    }
  ]
}